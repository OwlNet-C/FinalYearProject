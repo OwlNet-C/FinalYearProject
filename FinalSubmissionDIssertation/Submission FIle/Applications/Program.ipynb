{
 "cells": [
  {
   "cell_type": "code",
   "execution_count": 109,
   "metadata": {},
   "outputs": [],
   "source": [
    "import numpy as np\n",
    "import pandas as pd\n",
    "import nltk\n",
    "from nltk import pos_tag\n",
    "from nltk.corpus import stopwords\n",
    "from collections import defaultdict\n",
    "from nltk.corpus import wordnet as wn\n",
    "from nltk.stem import WordNetLemmatizer\n",
    "from nltk.tokenize import word_tokenize\n",
    "from sklearn.model_selection import train_test_split\n",
    "from sklearn import svm\n",
    "from sklearn.feature_extraction.text import TfidfVectorizer\n",
    "from sklearn.metrics import accuracy_score, precision_score, recall_score, f1_score, confusion_matrix,classification_report\n",
    "from sklearn import metrics\n",
    "import matplotlib.pyplot as plt\n",
    "from afinn import Afinn"
   ]
  },
  {
   "cell_type": "markdown",
   "metadata": {},
   "source": [
    "# Importing Data"
   ]
  },
  {
   "cell_type": "code",
   "execution_count": 110,
   "metadata": {},
   "outputs": [],
   "source": [
    "#Training dataset loaded in\n",
    "train = pd.read_csv(\"train.csv\")\n",
    "\n",
    "# test data/Validation\n",
    "test = pd.read_csv(\"test.csv\")"
   ]
  },
  {
   "cell_type": "code",
   "execution_count": 111,
   "metadata": {},
   "outputs": [
    {
     "name": "stdout",
     "output_type": "stream",
     "text": [
      "   label                                              tweet\n",
      "0      1  == Arabs are committing genocide in Iraq, but ...\n",
      "1      1  DJ Robinson is gay as hell! he sucks his dick ...\n",
      "2      1               :Fuck off, you anti-semitic cunt.  |\n",
      "3      1  How dare you vandalize that page about the HMS...\n",
      "4      1  ::No, he is an arrogant, self serving, immatur...\n"
     ]
    }
   ],
   "source": [
    "print(test.head())"
   ]
  },
  {
   "cell_type": "markdown",
   "metadata": {},
   "source": [
    "# NLTK Download"
   ]
  },
  {
   "cell_type": "code",
   "execution_count": 112,
   "metadata": {},
   "outputs": [
    {
     "name": "stderr",
     "output_type": "stream",
     "text": [
      "[nltk_data] Downloading package stopwords to\n",
      "[nltk_data]     C:\\Users\\Junayid\\AppData\\Roaming\\nltk_data...\n",
      "[nltk_data]   Package stopwords is already up-to-date!\n",
      "[nltk_data] Downloading package punkt to\n",
      "[nltk_data]     C:\\Users\\Junayid\\AppData\\Roaming\\nltk_data...\n",
      "[nltk_data]   Package punkt is already up-to-date!\n",
      "[nltk_data] Downloading package wordnet to\n",
      "[nltk_data]     C:\\Users\\Junayid\\AppData\\Roaming\\nltk_data...\n",
      "[nltk_data]   Package wordnet is already up-to-date!\n"
     ]
    },
    {
     "data": {
      "text/plain": [
       "True"
      ]
     },
     "execution_count": 112,
     "metadata": {},
     "output_type": "execute_result"
    }
   ],
   "source": [
    "nltk.download('stopwords')\n",
    "nltk.download('punkt')\n",
    "nltk.download('wordnet')"
   ]
  },
  {
   "cell_type": "markdown",
   "metadata": {},
   "source": [
    "# Cleaning Function / Data Pre-Processing"
   ]
  },
  {
   "cell_type": "code",
   "execution_count": 113,
   "metadata": {},
   "outputs": [],
   "source": [
    "def clean_tweet(df):\n",
    "    df['tweet'].dropna(inplace=True)#Removing empty entries\n",
    "    df['tweet_temp'] = [entry.lower() for entry in df ['tweet']] #Lowercase\n",
    "    df['tweet_temp'] = [word_tokenize(entry) for entry in df['tweet_temp']] # Tokenisation\n",
    "    \n",
    "#Part of speech tagging, to highlight types of words, nouns adjectives etc\n",
    "    tag_map = defaultdict(lambda: wn.NOUN)\n",
    "    tag_map['R'] = wn.ADV\n",
    "    tag_map['V'] = wn.VERB\n",
    "    tag_map['J'] = wn.ADJ\n",
    "    \n",
    "    for index,entry in enumerate(df['tweet_temp']):\n",
    "        final_words = [] #Ampty list which will be assigined cleaned tweets\n",
    "        word_Lemmatized = WordNetLemmatizer()#Calling Lemmatiser\n",
    "        \n",
    "        for word, tag in pos_tag(entry):\n",
    "            if word not in stopwords.words('english') and word.isalpha():\n",
    "                word_final = word_Lemmatized.lemmatize(word, tag_map[tag[0]]) # Performing lemmatisation of words that if statements\n",
    "                final_words.append(word_final)\n",
    "        df.loc[index, 'clean_tweet'] = str(final_words) # Implement all cleaned tweets in to DF\n",
    "    \n",
    "    del df['tweet_temp']#no need for this initial DF."
   ]
  },
  {
   "cell_type": "code",
   "execution_count": 114,
   "metadata": {},
   "outputs": [],
   "source": [
    "clean_tweet(train)\n",
    "clean_tweet(test)\n",
    "\n",
    "#Running clean function on datasets"
   ]
  },
  {
   "cell_type": "code",
   "execution_count": 115,
   "metadata": {},
   "outputs": [
    {
     "data": {
      "text/plain": [
       "0    ['arab', 'commit', 'genocide', 'iraq', 'protes...\n",
       "1    ['dj', 'robinson', 'gay', 'hell', 'suck', 'dic...\n",
       "2                                     ['fuck', 'cunt']\n",
       "3    ['dare', 'vandalize', 'page', 'hm', 'beagle', ...\n",
       "4    ['arrogant', 'self', 'serving', 'immature', 'i...\n",
       "Name: clean_tweet, dtype: object"
      ]
     },
     "execution_count": 115,
     "metadata": {},
     "output_type": "execute_result"
    }
   ],
   "source": [
    "test['clean_tweet'].head()"
   ]
  },
  {
   "cell_type": "markdown",
   "metadata": {},
   "source": [
    "# Test Train Splitting"
   ]
  },
  {
   "cell_type": "code",
   "execution_count": 116,
   "metadata": {},
   "outputs": [],
   "source": [
    "train_x = train['clean_tweet']\n",
    "test_x = test['clean_tweet']\n",
    "train_y = train['label']\n",
    "test_y = test['label']\n",
    "\n",
    "#Assinging X and Y varaibles accordingly"
   ]
  },
  {
   "cell_type": "code",
   "execution_count": 117,
   "metadata": {},
   "outputs": [
    {
     "name": "stdout",
     "output_type": "stream",
     "text": [
      "0    ['fuck', 'nazi', 'propaganda', 'odpierdalcie',...\n",
      "1    ['really', 'sure', 'issue', 'name', 'rise', 'b...\n",
      "2    ['since', 'user', 'page', 'say', 'want', 'guy'...\n",
      "3    ['awesome', 'wikipedian', 'shit', 'droppings',...\n",
      "4    ['fuck', 'u', 'useless', 'bot', 'fuck', 'u', '...\n",
      "Name: clean_tweet, dtype: object\n"
     ]
    }
   ],
   "source": [
    "print(train_x.head())"
   ]
  },
  {
   "cell_type": "code",
   "execution_count": 118,
   "metadata": {},
   "outputs": [
    {
     "name": "stdout",
     "output_type": "stream",
     "text": [
      "0    1\n",
      "1    1\n",
      "2    1\n",
      "3    1\n",
      "4    1\n",
      "Name: label, dtype: int64\n"
     ]
    }
   ],
   "source": [
    "print(train_y.head())"
   ]
  },
  {
   "cell_type": "code",
   "execution_count": 119,
   "metadata": {},
   "outputs": [
    {
     "data": {
      "text/plain": [
       "0    27816\n",
       "1    15052\n",
       "Name: label, dtype: int64"
      ]
     },
     "execution_count": 119,
     "metadata": {},
     "output_type": "execute_result"
    }
   ],
   "source": [
    "train['label'].value_counts()"
   ]
  },
  {
   "cell_type": "code",
   "execution_count": 120,
   "metadata": {},
   "outputs": [
    {
     "data": {
      "text/plain": [
       "0    14778\n",
       "1     6332\n",
       "Name: label, dtype: int64"
      ]
     },
     "execution_count": 120,
     "metadata": {},
     "output_type": "execute_result"
    }
   ],
   "source": [
    "test['label'].value_counts()"
   ]
  },
  {
   "cell_type": "markdown",
   "metadata": {},
   "source": [
    "# TFIDF Vectorisation"
   ]
  },
  {
   "cell_type": "code",
   "execution_count": 121,
   "metadata": {},
   "outputs": [],
   "source": [
    "vectorizer = TfidfVectorizer(max_features=5000)"
   ]
  },
  {
   "cell_type": "code",
   "execution_count": 122,
   "metadata": {},
   "outputs": [],
   "source": [
    "vectorizer.fit(train['clean_tweet'])\n",
    "vectorizer.fit(test['clean_tweet'])\n",
    "train_x_vec = vectorizer.transform(train_x)\n",
    "test_x_vec = vectorizer.transform(test_x)"
   ]
  },
  {
   "cell_type": "markdown",
   "metadata": {},
   "source": [
    "# SVM Application "
   ]
  },
  {
   "cell_type": "code",
   "execution_count": 123,
   "metadata": {},
   "outputs": [
    {
     "name": "stdout",
     "output_type": "stream",
     "text": [
      "SVM Accuracy Score ->  93.78493604926575\n",
      "SVM Precision Score ->  85.70412517780939\n",
      "SVM Recall Score ->  95.15161086544536\n",
      "SVM F1 Score ->  90.1811106121838\n",
      "SVM Confusion Matrix ->\n"
     ]
    },
    {
     "data": {
      "text/plain": [
       "array([[13773,  1005],\n",
       "       [  307,  6025]], dtype=int64)"
      ]
     },
     "execution_count": 123,
     "metadata": {},
     "output_type": "execute_result"
    }
   ],
   "source": [
    "SVM = svm.SVC(kernel = 'linear',class_weight='balanced',C=2,random_state=64,)\n",
    "SVM.fit(test_x_vec, test_y)\n",
    "predictions_SVM = SVM.predict(test_x_vec)\n",
    "\n",
    "\n",
    "print(\"SVM Accuracy Score -> \", accuracy_score(test_y, predictions_SVM) * 100)\n",
    "print(\"SVM Precision Score -> \", precision_score(test_y, predictions_SVM) * 100)\n",
    "print(\"SVM Recall Score -> \", recall_score(test_y, predictions_SVM) * 100)\n",
    "print(\"SVM F1 Score -> \", f1_score(test_y, predictions_SVM) * 100)\n",
    "print(\"SVM Confusion Matrix ->\")\n",
    "confusion_matrix(test_y, predictions_SVM)"
   ]
  },
  {
   "cell_type": "code",
   "execution_count": 124,
   "metadata": {},
   "outputs": [
    {
     "data": {
      "text/html": [
       "<div>\n",
       "<style scoped>\n",
       "    .dataframe tbody tr th:only-of-type {\n",
       "        vertical-align: middle;\n",
       "    }\n",
       "\n",
       "    .dataframe tbody tr th {\n",
       "        vertical-align: top;\n",
       "    }\n",
       "\n",
       "    .dataframe thead th {\n",
       "        text-align: right;\n",
       "    }\n",
       "</style>\n",
       "<table border=\"1\" class=\"dataframe\">\n",
       "  <thead>\n",
       "    <tr style=\"text-align: right;\">\n",
       "      <th></th>\n",
       "      <th>non</th>\n",
       "      <th>abuse</th>\n",
       "    </tr>\n",
       "  </thead>\n",
       "  <tbody>\n",
       "    <tr>\n",
       "      <th>non</th>\n",
       "      <td>13773</td>\n",
       "      <td>1005</td>\n",
       "    </tr>\n",
       "    <tr>\n",
       "      <th>abuse</th>\n",
       "      <td>307</td>\n",
       "      <td>6025</td>\n",
       "    </tr>\n",
       "  </tbody>\n",
       "</table>\n",
       "</div>"
      ],
      "text/plain": [
       "         non  abuse\n",
       "non    13773   1005\n",
       "abuse    307   6025"
      ]
     },
     "execution_count": 124,
     "metadata": {},
     "output_type": "execute_result"
    }
   ],
   "source": [
    "df = pd.DataFrame(metrics.confusion_matrix(test_y, predictions_SVM), index=['non','abuse'], columns=['non','abuse'])\n",
    "df"
   ]
  },
  {
   "cell_type": "code",
   "execution_count": 125,
   "metadata": {},
   "outputs": [
    {
     "name": "stdout",
     "output_type": "stream",
     "text": [
      "              precision    recall  f1-score   support\n",
      "\n",
      "           0       0.98      0.93      0.95     14778\n",
      "           1       0.86      0.95      0.90      6332\n",
      "\n",
      "    accuracy                           0.94     21110\n",
      "   macro avg       0.92      0.94      0.93     21110\n",
      "weighted avg       0.94      0.94      0.94     21110\n",
      "\n"
     ]
    }
   ],
   "source": [
    "print(classification_report(test_y,predictions_SVM))"
   ]
  },
  {
   "cell_type": "markdown",
   "metadata": {},
   "source": [
    "# Applying SVM on Validation data"
   ]
  },
  {
   "cell_type": "code",
   "execution_count": 126,
   "metadata": {},
   "outputs": [],
   "source": [
    "test_vec = vectorizer.transform(test['clean_tweet'])"
   ]
  },
  {
   "cell_type": "code",
   "execution_count": 127,
   "metadata": {},
   "outputs": [],
   "source": [
    "predictions_SVM = SVM.predict(test_vec)"
   ]
  },
  {
   "cell_type": "code",
   "execution_count": 128,
   "metadata": {},
   "outputs": [],
   "source": [
    "test['SVM_Model'] = predictions_SVM"
   ]
  },
  {
   "cell_type": "markdown",
   "metadata": {},
   "source": [
    "# SVM Visualisation"
   ]
  },
  {
   "cell_type": "markdown",
   "metadata": {},
   "source": [
    "### Examining general results on validation data for SVM Model"
   ]
  },
  {
   "cell_type": "code",
   "execution_count": 129,
   "metadata": {},
   "outputs": [
    {
     "data": {
      "text/plain": [
       "[Text(0, 0, 'Non Abusive'), Text(1, 0, 'Abusive')]"
      ]
     },
     "execution_count": 129,
     "metadata": {},
     "output_type": "execute_result"
    },
    {
     "data": {
      "image/png": "[encoded data removed]",
      "text/plain": [
       "<Figure size 432x288 with 1 Axes>"
      ]
     },
     "metadata": {
      "needs_background": "light"
     },
     "output_type": "display_data"
    }
   ],
   "source": [
    "plot_df = test.groupby(['SVM_Model']).size().reset_index(name='count')\n",
    "ax = plot_df['count'].plot(kind='bar', width=0.3, color = [\"green\",\"red\"])\n",
    "ax.set_xticklabels(labels=['Non Abusive', 'Abusive'], rotation=0, )"
   ]
  },
  {
   "cell_type": "code",
   "execution_count": 130,
   "metadata": {},
   "outputs": [
    {
     "data": {
      "text/plain": [
       "0    14080\n",
       "1     7030\n",
       "Name: SVM_Model, dtype: int64"
      ]
     },
     "execution_count": 130,
     "metadata": {},
     "output_type": "execute_result"
    }
   ],
   "source": [
    "test['SVM_Model'].value_counts()"
   ]
  },
  {
   "cell_type": "code",
   "execution_count": 131,
   "metadata": {},
   "outputs": [
    {
     "data": {
      "text/html": [
       "<div>\n",
       "<style scoped>\n",
       "    .dataframe tbody tr th:only-of-type {\n",
       "        vertical-align: middle;\n",
       "    }\n",
       "\n",
       "    .dataframe tbody tr th {\n",
       "        vertical-align: top;\n",
       "    }\n",
       "\n",
       "    .dataframe thead th {\n",
       "        text-align: right;\n",
       "    }\n",
       "</style>\n",
       "<table border=\"1\" class=\"dataframe\">\n",
       "  <thead>\n",
       "    <tr style=\"text-align: right;\">\n",
       "      <th></th>\n",
       "      <th>label</th>\n",
       "      <th>tweet</th>\n",
       "      <th>clean_tweet</th>\n",
       "    </tr>\n",
       "  </thead>\n",
       "  <tbody>\n",
       "    <tr>\n",
       "      <th>0</th>\n",
       "      <td>1</td>\n",
       "      <td>FUCK OF NAZI PROPAGANDA\\r\\nodpierdalcie sie je...</td>\n",
       "      <td>['fuck', 'nazi', 'propaganda', 'odpierdalcie',...</td>\n",
       "    </tr>\n",
       "    <tr>\n",
       "      <th>1</th>\n",
       "      <td>1</td>\n",
       "      <td>Not really sure what the issue is here \\r\\n\\r\\...</td>\n",
       "      <td>['really', 'sure', 'issue', 'name', 'rise', 'b...</td>\n",
       "    </tr>\n",
       "    <tr>\n",
       "      <th>2</th>\n",
       "      <td>1</td>\n",
       "      <td>Since this is MY user page, I can say what I w...</td>\n",
       "      <td>['since', 'user', 'page', 'say', 'want', 'guy'...</td>\n",
       "    </tr>\n",
       "    <tr>\n",
       "      <th>3</th>\n",
       "      <td>1</td>\n",
       "      <td>\"\\r\\n\\r\\n You Are an Awesome wikipedian \\r\\n\\r...</td>\n",
       "      <td>['awesome', 'wikipedian', 'shit', 'droppings',...</td>\n",
       "    </tr>\n",
       "    <tr>\n",
       "      <th>4</th>\n",
       "      <td>1</td>\n",
       "      <td>FUCK YOU U USELESS BOT FUCK YOU U USELESS BOT ...</td>\n",
       "      <td>['fuck', 'u', 'useless', 'bot', 'fuck', 'u', '...</td>\n",
       "    </tr>\n",
       "  </tbody>\n",
       "</table>\n",
       "</div>"
      ],
      "text/plain": [
       "   label                                              tweet  \\\n",
       "0      1  FUCK OF NAZI PROPAGANDA\\r\\nodpierdalcie sie je...   \n",
       "1      1  Not really sure what the issue is here \\r\\n\\r\\...   \n",
       "2      1  Since this is MY user page, I can say what I w...   \n",
       "3      1  \"\\r\\n\\r\\n You Are an Awesome wikipedian \\r\\n\\r...   \n",
       "4      1  FUCK YOU U USELESS BOT FUCK YOU U USELESS BOT ...   \n",
       "\n",
       "                                         clean_tweet  \n",
       "0  ['fuck', 'nazi', 'propaganda', 'odpierdalcie',...  \n",
       "1  ['really', 'sure', 'issue', 'name', 'rise', 'b...  \n",
       "2  ['since', 'user', 'page', 'say', 'want', 'guy'...  \n",
       "3  ['awesome', 'wikipedian', 'shit', 'droppings',...  \n",
       "4  ['fuck', 'u', 'useless', 'bot', 'fuck', 'u', '...  "
      ]
     },
     "execution_count": 131,
     "metadata": {},
     "output_type": "execute_result"
    }
   ],
   "source": [
    "train.head()"
   ]
  },
  {
   "cell_type": "markdown",
   "metadata": {},
   "source": [
    "# AFINN Lexicon"
   ]
  },
  {
   "cell_type": "code",
   "execution_count": 132,
   "metadata": {},
   "outputs": [],
   "source": [
    "af = Afinn()"
   ]
  },
  {
   "cell_type": "markdown",
   "metadata": {},
   "source": [
    "## Creating classification function"
   ]
  },
  {
   "cell_type": "code",
   "execution_count": 133,
   "metadata": {},
   "outputs": [],
   "source": [
    "def sentimentgraph(sentence):\n",
    "    sentence = sentence[1:-1].replace(',', '').replace('\\'', '')\n",
    "    score = af.score(sentence)# Calls AFINN polarity score metric\n",
    "    if score >= 0:\n",
    "        return 1\n",
    "    else:\n",
    "        return -1\n",
    "#Returns only classificaitions \n",
    "\n",
    "def sentimentscore(sentence):\n",
    "    sentence = sentence[1:-1].replace(',', '').replace('\\'', '')\n",
    "    score = af.score(sentence)\n",
    "    return score\n",
    "\n",
    "#Used to generate pure sentiment"
   ]
  },
  {
   "cell_type": "code",
   "execution_count": 134,
   "metadata": {},
   "outputs": [],
   "source": [
    "test['AFINN_Lexicon'] = test['clean_tweet'].apply(sentimentgraph)"
   ]
  },
  {
   "cell_type": "code",
   "execution_count": 135,
   "metadata": {},
   "outputs": [],
   "source": [
    "test['Sentiment_Score'] = test['clean_tweet'].apply(sentimentscore)"
   ]
  },
  {
   "cell_type": "markdown",
   "metadata": {},
   "source": [
    "# Examining AFINN Lexicon results on Validation dataset"
   ]
  },
  {
   "cell_type": "code",
   "execution_count": 136,
   "metadata": {},
   "outputs": [
    {
     "data": {
      "text/plain": [
       "[Text(0, 0, 'Non Abusive'), Text(1, 0, 'Abusive')]"
      ]
     },
     "execution_count": 136,
     "metadata": {},
     "output_type": "execute_result"
    },
    {
     "data": {
      "image/png": "[encoded data removed]",
      "text/plain": [
       "<Figure size 432x288 with 1 Axes>"
      ]
     },
     "metadata": {
      "needs_background": "light"
     },
     "output_type": "display_data"
    }
   ],
   "source": [
    "plot_df = test.groupby(['AFINN_Lexicon']).size().reset_index(name='count')\n",
    "ax = plot_df['count'].plot(kind='bar', width=0.3, color =[\"purple\",\"orange\"])\n",
    "ax.set_xticklabels(labels=['Non Abusive', 'Abusive'], rotation=0)"
   ]
  },
  {
   "cell_type": "code",
   "execution_count": 137,
   "metadata": {},
   "outputs": [
    {
     "data": {
      "text/plain": [
       " 1    11940\n",
       "-1     9170\n",
       "Name: AFINN_Lexicon, dtype: int64"
      ]
     },
     "execution_count": 137,
     "metadata": {},
     "output_type": "execute_result"
    }
   ],
   "source": [
    "test['AFINN_Lexicon'].value_counts()"
   ]
  },
  {
   "cell_type": "markdown",
   "metadata": {},
   "source": [
    "# Calling Pre-Made TFIDF Lexicon"
   ]
  },
  {
   "cell_type": "code",
   "execution_count": 138,
   "metadata": {},
   "outputs": [],
   "source": [
    "gen_lexicon = pd.read_csv('lexicon.csv')"
   ]
  },
  {
   "cell_type": "code",
   "execution_count": 139,
   "metadata": {},
   "outputs": [],
   "source": [
    "positive_words_list = gen_lexicon['Positive'].tolist()\n",
    "negative_words_list = gen_lexicon['Negative'].tolist()"
   ]
  },
  {
   "cell_type": "code",
   "execution_count": 140,
   "metadata": {},
   "outputs": [
    {
     "name": "stdout",
     "output_type": "stream",
     "text": [
      "['tip', 'program', 'leftist', 'ready', 'retired', 'stupidity', 'isi', 'leviwood', 'though', 'price', 'liberal', 'radical', 'keep', 'racing', 'legitimate', 'answer', 'smart', 'skin', 'connectcut', 'sickness', 'defect', 'stability', 'property', 'bureaucrat', 'tyrone', 'sharp', 'army', 'possessed', 'want', 'drive', 'invite', 'bunnysmind', 'pit', 'muslims', 'room', 'cau', 'life', 'downtown', 'recognize', 'identifies', 'arm', 'story', 'deceptive', 'body', 'college', 'bludgeon', 'american', 'historyrepeatsitself', 'jarrett', 'immoral', 'evidently', 'word', 'aureliano', 'rid', 'attention', 'source', 'mental', 'degradation', 'appropriate', 'attend', 'math', 'commit', 'vote', 'conflict', 'group', 'btw', 'pc', 'beast', 'potential', 'road', 'regard', 'blacklivesmatter', 'ape', 'predate', 'rather', 'davidhartwell', 'endpcinamerica', 'nearly', 'archangeljack', 'witch', 'selective', 'refugee', 'critically', 'kdlnola', 'promise', 'store', 'manchurian', 'ratherbefishing', 'jesus', 'survive', 'joesnow', 'turnhearts', 'pd', 'apologist', 'hollywright', 'hold', 'despotic', 'homeless', 'terrorist', 'unskilled', 'lewinski', 'important', 'whole', 'relation', 'evil', 'ship', 'force', 'rocker', 'problem', 'savemurica', 'loan', 'spending', 'refuse', 'methuen', 'bring', 'pick', 'loot', 'fit', 'solution', 'office', 'sister', 'wrong', 'intoxicated', 'writer', 'wing', 'industry', 'kill', 'hood', 'understanding', 'questionable', 'eve', 'box', 'trail', 'welfare', 'pull', 'recitation', 'dangerous', 'carroll', 'motivation', 'obamasmom', 'long', 'murderous', 'adult', 'michele', 'smudge', 'strange', 'sometimes', 'blm', 'contribution', 'mexitrash', 'allegedly', 'religionhas', 'fix', 'aunt', 'patient', 'brag', 'dad', 'whybotherwithliberals', 'liberalstupidity', 'county', 'affirmative', 'large', 'basically', 'apply', 'draw', 'later', 'christkiller', 'toward', 'kate', 'grinch', 'vaughan', 'track', 'harder', 'junk', 'damage', 'national', 'migrant', 'capable', 'rxwhitmergender', 'consider', 'screening', 'dilligaftoyou', 'purport', 'position', 'strauss', 'throw', 'nab', 'privileged', 'largely', 'mongrel', 'kneel', 'sez', 'chickabalter', 'sb', 'inexcusable', 'date', 'dealt', 'dominate', 'mechanic', 'thug', 'would', 'gtvone', 'grader', 'die', 'tonight', 'meditation', 'webvisions', 'forgive', 'leave', 'submit', 'audrey', 'chillin', 'shaun', 'tnx', 'pix', 'gym', 'thx', 'money', 'push', 'negar', 'keyboard', 'woof', 'id', 'score', 'hub', 'loving', 'sony', 'wholeheartedly', 'independent', 'phase', 'aussiecynic', 'mpesce', 'mia', 'korean', 'ncis', 'crappy', 'remote', 'million', 'high', 'limit', 'mistake', 'country', 'twitterville', 'reach', 'hun', 'bam', 'load', 'lip', 'sink', 'freebie', 'welp', 'total', 'danny', 'whipped', 'tv', 'allllll', 'mot', 'wave', 'hv', 'watching', 'teddy', 'thursday', 'til', 'xdcd', 'ill', 'surround', 'presenter', 'rashmibansal', 'chuck', 'favourite', 'whale', 'larryczerwonka', 'giant', 'burst', 'control', 'europe', 'linux', 'youre', 'literally', 'officialkat', 'stray', 'ummm', 'hyderabad', 'hmmmm', 'oooo', 'guykawasaki', 'tough', 'mostly', 'owww', 'pal', 'amazin', 'eight', 'break', 'weave', 'together', 'glorious', 'atebits', 'phillies', 'yey', 'hiro', 'snow', 'designer', 'levimorales', 'scoble', 'smart', 'twin', 'pint', 'eventually', 'velocity', 'yeyyy', 'justdes', 'kourtneykardash', 'deficit', 'mwmyn', 'chloe', 'lucky', 'happy', 'toilet', 'suck', 'hero', 'hb', 'sm', 'lolll', 'heavenlyhev', 'word', 'alarm', 'tho', 'whatta', 'greatly', 'young', 'manda', 'henry', 'honestly', 'graphic', 'pub', 'ta', 'hug', 'ozazure', 'heard', 'leak', 'eb', 'repeat', 'white', 'alex', 'thats', 'french', 'neetball', 'mountain', 'increase', 'joelmadden', 'heres', 'history', 'dr', 'nectarine', 'lawyer', 'au', 'telly', 'atm', 'suprise', 'motorbike', 'ez', 'liver', 'freeze', 'pimp', 'newsletter', 'astartiel', 'feast', 'necessary', 'ty', 'timeless', 'petesanderson', 'validate', 'send', 'feed', 'glasgow', 'bird', 'factory', 'maam', 'write', 'sweeney', 'section', 'cinema', 'man', 'stacijshelton', 'another', 'hurt', 'xxx', 'anytime', 'gon', 'stu', 'nkotb', 'malta', 'xo', 'superman', 'thick', 'style', 'future', 'microsoft', 'fred', 'bergen', 'many', 'whilst', 'brazilian', 'iraq', 'choke', 'criminal', 'petty', 'rsberto', 'stalkin', 'prevent', 'political', 'anthonycumia', 'irri', 'jenna', 'please', 'spanish', 'wo', 'beauutifulnae', 'prolyy', 'johnny', 'theracistdoctor', 'yattabing', 'rock', 'newyorkcity', 'karma', 'pop', 'israel', 'useemitch', 'shit', 'porto', 'deserve', 'vatxn', 'fucker', 'forget', 'chink', 'home', 'loyal', 'fun', 'oniinebaby', 'cocksucker', 'xpoppinwheelies', 'page', 'democr', 'coke', 'drunk', 'mail', 'chosen', 'bout', 'officialskai', 'lebron', 'police', 'hipster', 'next', 'beautiful', 'imma', 'hound', 'beg', 'sayin', 'plank', 'shorty', 'bath', 'bore', 'hack', 'letsargueboxing', 'believe', 'pep', 'ant', 'whatsoever', 'hiv', 'anthonybialy', 'payton', 'rileyybryn', 'somebody', 'cant', 'smart', 'knockdown', 'crack', 'liberal', 'sunday', 'tweet', 'vhia', 'use', 'hajihuntingpat', 'aint', 'bro', 'okies', 'traitor', 'peterpandacat', 'hell', 'scale', 'radar', 'bend', 'nigga', 'weve', 'table', 'allah', 'swag', 'panther', 'tolerance', 'pathetic', 'pregnant', 'whitey', 'lml', 'nekolin', 'nasty', 'shoe', 'michellemalkin', 'nappy', 'dead', 'simone', 'doesnt', 'self', 'pic', 'losangeles', 'door', 'anglo', 'walk', 'think', 'breath', 'shop', 'text', 'unfunny', 'apache', 'albino', 'show', 'womenlovebrickz', 'defense', 'brother', 'doin', 'americanwhitehm', 'tea', 'day', 'tehgodclan', 'kickin', 'kidd', 'later', 'shouldnt', 'arrest', 'jimmymciver', 'stevestockmantx', 'jrwrz', 'dreaaalove', 'hitler', 'thats', 'new', 'anyway', 'news', 'roll', 'texas', 'illiterate', 'smasey', 'bobby', 'spic', 'neighbor', 'ponk', 'guard', 'ah', 'soup', 'disperse', 'unofficial', 'date', 'cool', 'cry', 'denytheprophecy', 'last', 'offensive', 'ohio', 'answer', 'house', 'military', 'den', 'heyyayled', 'jacobbbacker', 'mississippi', 'yellow', 'funky', 'real', 'first', 'nomore', 'confronts', 'slit', 'error', 'back', 'even', 'misfit', 'fitting', 'lick', 'chicothewolf', 'successful', 'host', 'markroundtreejr', 'bus', 'iamkrause', 'long', 'heauxmersimpson', 'yoself', 'greyyygoose', 'child', 'blonde', 'dudes']\n"
     ]
    }
   ],
   "source": [
    "print (positive_words_list)"
   ]
  },
  {
   "cell_type": "markdown",
   "metadata": {},
   "source": [
    "### Creating Classification function"
   ]
  },
  {
   "cell_type": "code",
   "execution_count": 141,
   "metadata": {},
   "outputs": [],
   "source": [
    "def TFIDF_graph(sentence):\n",
    "    sentence = sentence[1:-1].replace(',', '').replace('\\'', '')\n",
    "    words = sentence.split(' ')\n",
    "    score = 0\n",
    "    for word in words:\n",
    "        if word in positive_words_list: # HIGHER SCORE MEANS LESS ABUSIVE\n",
    "            score += 1\n",
    "        elif word in negative_words_list: #LOWER SCORE MEANS MORE ABUSIVE\n",
    "            score -= 1\n",
    "    if score >= 0:\n",
    "        return 1\n",
    "    else:\n",
    "        return -1"
   ]
  },
  {
   "cell_type": "code",
   "execution_count": 142,
   "metadata": {},
   "outputs": [],
   "source": [
    "test['TFIDF_Lexicon'] = test['clean_tweet'].apply(TFIDF_graph)"
   ]
  },
  {
   "cell_type": "markdown",
   "metadata": {},
   "source": [
    "# Validation testing of TFIDF Lexicon"
   ]
  },
  {
   "cell_type": "code",
   "execution_count": 143,
   "metadata": {},
   "outputs": [
    {
     "data": {
      "text/plain": [
       "[Text(0, 0, 'Non Abusive'), Text(1, 0, 'Abusive')]"
      ]
     },
     "execution_count": 143,
     "metadata": {},
     "output_type": "execute_result"
    },
    {
     "data": {
      "image/png": "[encoded data removed]",
      "text/plain": [
       "<Figure size 432x288 with 1 Axes>"
      ]
     },
     "metadata": {
      "needs_background": "light"
     },
     "output_type": "display_data"
    }
   ],
   "source": [
    "plot_df = test.groupby(['TFIDF_Lexicon']).size().reset_index(name='count')\n",
    "ax = plot_df['count'].plot(kind='bar', width=0.3, color =[\"cyan\",\"orange\"])\n",
    "ax.set_xticklabels(labels=['Non Abusive', 'Abusive'], rotation=0)"
   ]
  },
  {
   "cell_type": "code",
   "execution_count": 144,
   "metadata": {},
   "outputs": [
    {
     "data": {
      "text/plain": [
       "-1    14545\n",
       " 1     6565\n",
       "Name: TFIDF_Lexicon, dtype: int64"
      ]
     },
     "execution_count": 144,
     "metadata": {},
     "output_type": "execute_result"
    }
   ],
   "source": [
    "test['TFIDF_Lexicon'].value_counts()"
   ]
  },
  {
   "cell_type": "markdown",
   "metadata": {},
   "source": [
    "# Twitter API"
   ]
  },
  {
   "cell_type": "code",
   "execution_count": 145,
   "metadata": {},
   "outputs": [],
   "source": [
    "import tweepy"
   ]
  },
  {
   "cell_type": "markdown",
   "metadata": {},
   "source": [
    "### Developer Keys"
   ]
  },
  {
   "cell_type": "code",
   "execution_count": 146,
   "metadata": {},
   "outputs": [],
   "source": [
    "consumer_key = \"0vvc4ChRMx3fRCxDdmIpfSAKc\"\n",
    "consumer_secret = \"zFeKJOhf6Y4zw5e5PcyI4GaLE2aiy4U0K68I7tm4OmxAwJIgKT\"\n",
    "access_token = \"1109999346-YmM6wO5s44Vez5dBuEnYB35dxbDfHWxsxoBxtdD\"\n",
    "access_token_secret = \"rGa0OOHs1sO3k3s1D03xYre5SG6UIMfjkg3jGtauplrg5\""
   ]
  },
  {
   "cell_type": "code",
   "execution_count": 147,
   "metadata": {},
   "outputs": [],
   "source": [
    "auth = tweepy.OAuthHandler(consumer_key, consumer_secret)\n",
    "auth.set_access_token(access_token, access_token_secret)\n",
    "api = tweepy.API(auth) "
   ]
  },
  {
   "cell_type": "markdown",
   "metadata": {},
   "source": [
    "# Fetching Tweets"
   ]
  },
  {
   "cell_type": "markdown",
   "metadata": {},
   "source": [
    "### Queary based search"
   ]
  },
  {
   "cell_type": "code",
   "execution_count": 148,
   "metadata": {},
   "outputs": [],
   "source": [
    "query = 'Football'\n",
    "max_tweet = 5\n",
    "\n",
    "searched_tweets = api.search(q=query, count=max_tweet, tweet_mode='extended')\n",
    "tweets = []\n",
    "\n",
    "for tweet in searched_tweets:\n",
    "    tweets.append(tweet.full_text)\n",
    "\n",
    "tweets_df = pd.DataFrame(tweets, columns=['tweet'])"
   ]
  },
  {
   "cell_type": "markdown",
   "metadata": {},
   "source": [
    "### TImeline based search"
   ]
  },
  {
   "cell_type": "code",
   "execution_count": 149,
   "metadata": {},
   "outputs": [],
   "source": [
    "#public_tweets = api.home_timeline()\n",
    "\n",
    "#tweets = []\n",
    "\n",
    "#for tweet in public_tweets:\n",
    "#  tweets.append(tweet.text)\n",
    "\n",
    "#tweets_df = pd.DataFrame(tweets, columns=['tweet'])"
   ]
  },
  {
   "cell_type": "code",
   "execution_count": 150,
   "metadata": {},
   "outputs": [
    {
     "name": "stdout",
     "output_type": "stream",
     "text": [
      "['Colt Brennan and Hawaii used to have you up late watching their games. Then had me playing NCAA football with Hawaii even chose to go there with one of my created players. RIP to a college football legend.', \"RT @MichealAyebs: Your a football fan and lover and you don't have a television to watch your football from, @ApplianceWUg has got you UHD…\", 'RT @BuryFCBoysGirls: Our girls #weetabixwildcats sessions are back in full swing\\n\\nAged 5-11 want to get involved with football? Get in touc…', \"RT @JoeEdwards_Star: Around 4,500 tickets are going on sale for Wolves' final game of the season against Manchester United at Molineux. Tho…\", '@AdamSchefter Loved watching him play. He put Hawaii football on the map. R.I.P. Colt! 🙏🏼']\n"
     ]
    }
   ],
   "source": [
    "print(tweets)"
   ]
  },
  {
   "cell_type": "markdown",
   "metadata": {},
   "source": [
    "### Cleaning Tweets"
   ]
  },
  {
   "cell_type": "code",
   "execution_count": 151,
   "metadata": {},
   "outputs": [],
   "source": [
    "clean_tweet(tweets_df)"
   ]
  },
  {
   "cell_type": "markdown",
   "metadata": {},
   "source": [
    "# Applying SVM "
   ]
  },
  {
   "cell_type": "code",
   "execution_count": 152,
   "metadata": {},
   "outputs": [],
   "source": [
    "tweets_df_vec = vectorizer.transform(tweets_df['clean_tweet'])"
   ]
  },
  {
   "cell_type": "code",
   "execution_count": 153,
   "metadata": {},
   "outputs": [],
   "source": [
    "predictions_SVM = SVM.predict(tweets_df_vec)"
   ]
  },
  {
   "cell_type": "code",
   "execution_count": 154,
   "metadata": {},
   "outputs": [],
   "source": [
    "tweets_df['SVM_Model'] = predictions_SVM"
   ]
  },
  {
   "cell_type": "markdown",
   "metadata": {},
   "source": [
    "# Applying AFINN Lexicon"
   ]
  },
  {
   "cell_type": "code",
   "execution_count": 155,
   "metadata": {},
   "outputs": [],
   "source": [
    "tweets_df['AFINN_Lexicon'] = tweets_df['clean_tweet'].apply(sentimentgraph)"
   ]
  },
  {
   "cell_type": "code",
   "execution_count": 156,
   "metadata": {},
   "outputs": [
    {
     "data": {
      "text/html": [
       "<div>\n",
       "<style scoped>\n",
       "    .dataframe tbody tr th:only-of-type {\n",
       "        vertical-align: middle;\n",
       "    }\n",
       "\n",
       "    .dataframe tbody tr th {\n",
       "        vertical-align: top;\n",
       "    }\n",
       "\n",
       "    .dataframe thead th {\n",
       "        text-align: right;\n",
       "    }\n",
       "</style>\n",
       "<table border=\"1\" class=\"dataframe\">\n",
       "  <thead>\n",
       "    <tr style=\"text-align: right;\">\n",
       "      <th></th>\n",
       "      <th>tweet</th>\n",
       "      <th>clean_tweet</th>\n",
       "      <th>SVM_Model</th>\n",
       "      <th>AFINN_Lexicon</th>\n",
       "    </tr>\n",
       "  </thead>\n",
       "  <tbody>\n",
       "    <tr>\n",
       "      <th>0</th>\n",
       "      <td>Colt Brennan and Hawaii used to have you up la...</td>\n",
       "      <td>['colt', 'brennan', 'hawaii', 'use', 'late', '...</td>\n",
       "      <td>0</td>\n",
       "      <td>1</td>\n",
       "    </tr>\n",
       "    <tr>\n",
       "      <th>1</th>\n",
       "      <td>RT @MichealAyebs: Your a football fan and love...</td>\n",
       "      <td>['rt', 'michealayebs', 'football', 'fan', 'lov...</td>\n",
       "      <td>0</td>\n",
       "      <td>1</td>\n",
       "    </tr>\n",
       "    <tr>\n",
       "      <th>2</th>\n",
       "      <td>RT @BuryFCBoysGirls: Our girls #weetabixwildca...</td>\n",
       "      <td>['rt', 'buryfcboysgirls', 'girl', 'weetabixwil...</td>\n",
       "      <td>0</td>\n",
       "      <td>1</td>\n",
       "    </tr>\n",
       "    <tr>\n",
       "      <th>3</th>\n",
       "      <td>RT @JoeEdwards_Star: Around 4,500 tickets are ...</td>\n",
       "      <td>['rt', 'around', 'ticket', 'go', 'sale', 'wolf...</td>\n",
       "      <td>0</td>\n",
       "      <td>1</td>\n",
       "    </tr>\n",
       "    <tr>\n",
       "      <th>4</th>\n",
       "      <td>@AdamSchefter Loved watching him play. He put ...</td>\n",
       "      <td>['adamschefter', 'love', 'watch', 'play', 'put...</td>\n",
       "      <td>0</td>\n",
       "      <td>1</td>\n",
       "    </tr>\n",
       "  </tbody>\n",
       "</table>\n",
       "</div>"
      ],
      "text/plain": [
       "                                               tweet  \\\n",
       "0  Colt Brennan and Hawaii used to have you up la...   \n",
       "1  RT @MichealAyebs: Your a football fan and love...   \n",
       "2  RT @BuryFCBoysGirls: Our girls #weetabixwildca...   \n",
       "3  RT @JoeEdwards_Star: Around 4,500 tickets are ...   \n",
       "4  @AdamSchefter Loved watching him play. He put ...   \n",
       "\n",
       "                                         clean_tweet  SVM_Model  AFINN_Lexicon  \n",
       "0  ['colt', 'brennan', 'hawaii', 'use', 'late', '...          0              1  \n",
       "1  ['rt', 'michealayebs', 'football', 'fan', 'lov...          0              1  \n",
       "2  ['rt', 'buryfcboysgirls', 'girl', 'weetabixwil...          0              1  \n",
       "3  ['rt', 'around', 'ticket', 'go', 'sale', 'wolf...          0              1  \n",
       "4  ['adamschefter', 'love', 'watch', 'play', 'put...          0              1  "
      ]
     },
     "execution_count": 156,
     "metadata": {},
     "output_type": "execute_result"
    }
   ],
   "source": [
    "tweets_df.head()"
   ]
  },
  {
   "cell_type": "markdown",
   "metadata": {},
   "source": [
    "# Applying TFIDF Lexicon"
   ]
  },
  {
   "cell_type": "code",
   "execution_count": 157,
   "metadata": {},
   "outputs": [],
   "source": [
    "tweets_df['TFIDF_Lexicon'] = tweets_df['clean_tweet'].apply(TFIDF_graph)"
   ]
  },
  {
   "cell_type": "code",
   "execution_count": 158,
   "metadata": {},
   "outputs": [
    {
     "data": {
      "text/html": [
       "<div>\n",
       "<style scoped>\n",
       "    .dataframe tbody tr th:only-of-type {\n",
       "        vertical-align: middle;\n",
       "    }\n",
       "\n",
       "    .dataframe tbody tr th {\n",
       "        vertical-align: top;\n",
       "    }\n",
       "\n",
       "    .dataframe thead th {\n",
       "        text-align: right;\n",
       "    }\n",
       "</style>\n",
       "<table border=\"1\" class=\"dataframe\">\n",
       "  <thead>\n",
       "    <tr style=\"text-align: right;\">\n",
       "      <th></th>\n",
       "      <th>tweet</th>\n",
       "      <th>clean_tweet</th>\n",
       "      <th>SVM_Model</th>\n",
       "      <th>AFINN_Lexicon</th>\n",
       "      <th>TFIDF_Lexicon</th>\n",
       "    </tr>\n",
       "  </thead>\n",
       "  <tbody>\n",
       "    <tr>\n",
       "      <th>0</th>\n",
       "      <td>Colt Brennan and Hawaii used to have you up la...</td>\n",
       "      <td>['colt', 'brennan', 'hawaii', 'use', 'late', '...</td>\n",
       "      <td>0</td>\n",
       "      <td>1</td>\n",
       "      <td>-1</td>\n",
       "    </tr>\n",
       "    <tr>\n",
       "      <th>1</th>\n",
       "      <td>RT @MichealAyebs: Your a football fan and love...</td>\n",
       "      <td>['rt', 'michealayebs', 'football', 'fan', 'lov...</td>\n",
       "      <td>0</td>\n",
       "      <td>1</td>\n",
       "      <td>-1</td>\n",
       "    </tr>\n",
       "    <tr>\n",
       "      <th>2</th>\n",
       "      <td>RT @BuryFCBoysGirls: Our girls #weetabixwildca...</td>\n",
       "      <td>['rt', 'buryfcboysgirls', 'girl', 'weetabixwil...</td>\n",
       "      <td>0</td>\n",
       "      <td>1</td>\n",
       "      <td>-1</td>\n",
       "    </tr>\n",
       "    <tr>\n",
       "      <th>3</th>\n",
       "      <td>RT @JoeEdwards_Star: Around 4,500 tickets are ...</td>\n",
       "      <td>['rt', 'around', 'ticket', 'go', 'sale', 'wolf...</td>\n",
       "      <td>0</td>\n",
       "      <td>1</td>\n",
       "      <td>-1</td>\n",
       "    </tr>\n",
       "    <tr>\n",
       "      <th>4</th>\n",
       "      <td>@AdamSchefter Loved watching him play. He put ...</td>\n",
       "      <td>['adamschefter', 'love', 'watch', 'play', 'put...</td>\n",
       "      <td>0</td>\n",
       "      <td>1</td>\n",
       "      <td>-1</td>\n",
       "    </tr>\n",
       "  </tbody>\n",
       "</table>\n",
       "</div>"
      ],
      "text/plain": [
       "                                               tweet  \\\n",
       "0  Colt Brennan and Hawaii used to have you up la...   \n",
       "1  RT @MichealAyebs: Your a football fan and love...   \n",
       "2  RT @BuryFCBoysGirls: Our girls #weetabixwildca...   \n",
       "3  RT @JoeEdwards_Star: Around 4,500 tickets are ...   \n",
       "4  @AdamSchefter Loved watching him play. He put ...   \n",
       "\n",
       "                                         clean_tweet  SVM_Model  \\\n",
       "0  ['colt', 'brennan', 'hawaii', 'use', 'late', '...          0   \n",
       "1  ['rt', 'michealayebs', 'football', 'fan', 'lov...          0   \n",
       "2  ['rt', 'buryfcboysgirls', 'girl', 'weetabixwil...          0   \n",
       "3  ['rt', 'around', 'ticket', 'go', 'sale', 'wolf...          0   \n",
       "4  ['adamschefter', 'love', 'watch', 'play', 'put...          0   \n",
       "\n",
       "   AFINN_Lexicon  TFIDF_Lexicon  \n",
       "0              1             -1  \n",
       "1              1             -1  \n",
       "2              1             -1  \n",
       "3              1             -1  \n",
       "4              1             -1  "
      ]
     },
     "execution_count": 158,
     "metadata": {},
     "output_type": "execute_result"
    }
   ],
   "source": [
    "tweets_df.head()"
   ]
  },
  {
   "cell_type": "markdown",
   "metadata": {},
   "source": [
    "## AFINN Polarity/Sentiment Scores"
   ]
  },
  {
   "cell_type": "code",
   "execution_count": 159,
   "metadata": {},
   "outputs": [],
   "source": [
    "tweets_df['Sentiment score'] = tweets_df['clean_tweet'].apply(sentimentscore)"
   ]
  },
  {
   "cell_type": "code",
   "execution_count": 160,
   "metadata": {},
   "outputs": [
    {
     "data": {
      "text/html": [
       "<div>\n",
       "<style scoped>\n",
       "    .dataframe tbody tr th:only-of-type {\n",
       "        vertical-align: middle;\n",
       "    }\n",
       "\n",
       "    .dataframe tbody tr th {\n",
       "        vertical-align: top;\n",
       "    }\n",
       "\n",
       "    .dataframe thead th {\n",
       "        text-align: right;\n",
       "    }\n",
       "</style>\n",
       "<table border=\"1\" class=\"dataframe\">\n",
       "  <thead>\n",
       "    <tr style=\"text-align: right;\">\n",
       "      <th></th>\n",
       "      <th>tweet</th>\n",
       "      <th>clean_tweet</th>\n",
       "      <th>SVM_Model</th>\n",
       "      <th>AFINN_Lexicon</th>\n",
       "      <th>TFIDF_Lexicon</th>\n",
       "      <th>Sentiment score</th>\n",
       "    </tr>\n",
       "  </thead>\n",
       "  <tbody>\n",
       "    <tr>\n",
       "      <th>0</th>\n",
       "      <td>Colt Brennan and Hawaii used to have you up la...</td>\n",
       "      <td>['colt', 'brennan', 'hawaii', 'use', 'late', '...</td>\n",
       "      <td>0</td>\n",
       "      <td>1</td>\n",
       "      <td>-1</td>\n",
       "      <td>0.0</td>\n",
       "    </tr>\n",
       "    <tr>\n",
       "      <th>1</th>\n",
       "      <td>RT @MichealAyebs: Your a football fan and love...</td>\n",
       "      <td>['rt', 'michealayebs', 'football', 'fan', 'lov...</td>\n",
       "      <td>0</td>\n",
       "      <td>1</td>\n",
       "      <td>-1</td>\n",
       "      <td>3.0</td>\n",
       "    </tr>\n",
       "    <tr>\n",
       "      <th>2</th>\n",
       "      <td>RT @BuryFCBoysGirls: Our girls #weetabixwildca...</td>\n",
       "      <td>['rt', 'buryfcboysgirls', 'girl', 'weetabixwil...</td>\n",
       "      <td>0</td>\n",
       "      <td>1</td>\n",
       "      <td>-1</td>\n",
       "      <td>1.0</td>\n",
       "    </tr>\n",
       "    <tr>\n",
       "      <th>3</th>\n",
       "      <td>RT @JoeEdwards_Star: Around 4,500 tickets are ...</td>\n",
       "      <td>['rt', 'around', 'ticket', 'go', 'sale', 'wolf...</td>\n",
       "      <td>0</td>\n",
       "      <td>1</td>\n",
       "      <td>-1</td>\n",
       "      <td>0.0</td>\n",
       "    </tr>\n",
       "    <tr>\n",
       "      <th>4</th>\n",
       "      <td>@AdamSchefter Loved watching him play. He put ...</td>\n",
       "      <td>['adamschefter', 'love', 'watch', 'play', 'put...</td>\n",
       "      <td>0</td>\n",
       "      <td>1</td>\n",
       "      <td>-1</td>\n",
       "      <td>3.0</td>\n",
       "    </tr>\n",
       "  </tbody>\n",
       "</table>\n",
       "</div>"
      ],
      "text/plain": [
       "                                               tweet  \\\n",
       "0  Colt Brennan and Hawaii used to have you up la...   \n",
       "1  RT @MichealAyebs: Your a football fan and love...   \n",
       "2  RT @BuryFCBoysGirls: Our girls #weetabixwildca...   \n",
       "3  RT @JoeEdwards_Star: Around 4,500 tickets are ...   \n",
       "4  @AdamSchefter Loved watching him play. He put ...   \n",
       "\n",
       "                                         clean_tweet  SVM_Model  \\\n",
       "0  ['colt', 'brennan', 'hawaii', 'use', 'late', '...          0   \n",
       "1  ['rt', 'michealayebs', 'football', 'fan', 'lov...          0   \n",
       "2  ['rt', 'buryfcboysgirls', 'girl', 'weetabixwil...          0   \n",
       "3  ['rt', 'around', 'ticket', 'go', 'sale', 'wolf...          0   \n",
       "4  ['adamschefter', 'love', 'watch', 'play', 'put...          0   \n",
       "\n",
       "   AFINN_Lexicon  TFIDF_Lexicon  Sentiment score  \n",
       "0              1             -1              0.0  \n",
       "1              1             -1              3.0  \n",
       "2              1             -1              1.0  \n",
       "3              1             -1              0.0  \n",
       "4              1             -1              3.0  "
      ]
     },
     "execution_count": 160,
     "metadata": {},
     "output_type": "execute_result"
    }
   ],
   "source": [
    "tweets_df.head()"
   ]
  },
  {
   "cell_type": "markdown",
   "metadata": {},
   "source": [
    "### Printing results to a CSV file"
   ]
  },
  {
   "cell_type": "code",
   "execution_count": 161,
   "metadata": {},
   "outputs": [],
   "source": [
    "tweets_df.to_csv(\"result.csv\", encoding='utf-8')"
   ]
  }
 ],
 "metadata": {
  "kernelspec": {
   "display_name": "Python 3",
   "language": "python",
   "name": "python3"
  },
  "language_info": {
   "codemirror_mode": {
    "name": "ipython",
    "version": 3
   },
   "file_extension": ".py",
   "mimetype": "text/x-python",
   "name": "python",
   "nbconvert_exporter": "python",
   "pygments_lexer": "ipython3",
   "version": "3.8.5"
  }
 },
 "nbformat": 4,
 "nbformat_minor": 4
}
